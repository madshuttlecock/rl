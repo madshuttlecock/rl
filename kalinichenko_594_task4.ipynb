{
 "cells": [
  {
   "cell_type": "markdown",
   "metadata": {},
   "source": [
    "<span style=\"font-size: 14pt\">MIPT, Applied ML, Autumn 2018</span>\n",
    "\n",
    "<span style=\"font-size: 16pt\"> HW #4: Approximate RL homework\n",
    "\n",
    "<span style=\"color:red; font-size: 14pt;\"> Дедлайн 19.11.2018 23:59 </span>\n",
    "\n",
    "<span style=\"color:blue; font-size: 12pt\">Valentin Malykh </span>,\n",
    "<span style=\"color:blue; font-size: 12pt; font-family: 'Verdana'\">val@maly.hk</span>"
   ]
  },
  {
   "cell_type": "markdown",
   "metadata": {},
   "source": [
    "\n",
    "**Оформление дз**: \n",
    "- Выполненное задание требуется отправлять через <a href='https://goo.gl/forms/XPSIbwp7wPxB4SsI3'>форму </a>\n",
    "\n",
    "- Выполненное дз прикрепляйте в формате файла ``<фамилия>_<группа>_task<номер>.ipynb``, например: ``ivanov_594_task4.ipynb`` \n",
    "\n",
    "**Вопросы**:\n",
    "- Вопросы присылайте в канал в телеграмме ``[Fall 2018]ML Seminars``\n",
    "\n",
    "--------\n",
    "- **PS1**: Будьте внимательны при заполнении формы, когда отправляете ДЗ \n"
   ]
  },
  {
   "cell_type": "markdown",
   "metadata": {},
   "source": [
    "<h1 align=\"center\">Практическое задание (100%)</h1>\n",
    "Описание находится по ссылке: https://gist.github.com/madrugado/1262c3077bf7d8ac8166e4350f0f67e2"
   ]
  },
  {
   "cell_type": "markdown",
   "metadata": {},
   "source": [
    "Написано на pytorch. Сначала я написала алгоритм полностью самостоятельно, но он не хотел обучаться, после чего я начала делать код больше похожим на код туториала по DQN с сайта pytorch (потому что, наверное, ошибка была где-то в использовании pytorch). \n",
    "\n",
    "**Сейчас оно обучается 5000 итераций (примерно 3 часа) и после этого садится 8 раз из 10, при этом на последних эпохах обучения часто получаются reward > 200, а средний reward ~150**"
   ]
  },
  {
   "cell_type": "code",
   "execution_count": 5,
   "metadata": {},
   "outputs": [],
   "source": [
    "import gym\n",
    "import os\n",
    "import sys\n",
    "import math\n",
    "import numpy as np\n",
    "import torch\n",
    "import torch.nn as nn\n",
    "import torch.nn.functional as F\n",
    "import torch.optim as optim\n",
    "import matplotlib.pyplot as plt\n",
    "from torch.autograd import Variable\n",
    "from torch.distributions import Categorical\n",
    "from itertools import count"
   ]
  },
  {
   "cell_type": "code",
   "execution_count": 17,
   "metadata": {},
   "outputs": [
    {
     "data": {
      "text/plain": [
       "'0.4.1'"
      ]
     },
     "execution_count": 17,
     "metadata": {},
     "output_type": "execute_result"
    }
   ],
   "source": [
    "torch.__version__"
   ]
  },
  {
   "cell_type": "code",
   "execution_count": 6,
   "metadata": {},
   "outputs": [],
   "source": [
    "import gym"
   ]
  },
  {
   "cell_type": "code",
   "execution_count": 7,
   "metadata": {},
   "outputs": [
    {
     "name": "stdout",
     "output_type": "stream",
     "text": [
      "USE_CUDA:  True\n"
     ]
    }
   ],
   "source": [
    "use_cuda = torch.cuda.is_available()\n",
    "device = torch.device(\"cuda\" if torch.cuda.is_available() else \"cpu\")\n",
    "print(\"USE_CUDA: \", use_cuda)\n",
    "Tensor = FloatTensor = torch.cuda.FloatTensor if use_cuda else torch.FloatTensor\n",
    "LongTensor = torch.cuda.LongTensor if use_cuda else torch.LongTensor\n",
    "ByteTensor = torch.cuda.ByteTensor if use_cuda else torch.ByteTensor"
   ]
  },
  {
   "cell_type": "code",
   "execution_count": 9,
   "metadata": {},
   "outputs": [],
   "source": [
    "from tqdm import tqdm_notebook"
   ]
  },
  {
   "cell_type": "code",
   "execution_count": 10,
   "metadata": {},
   "outputs": [],
   "source": [
    "class Approximation(nn.Module):\n",
    "    def __init__(self, state_size, num_actions, hid_size=30):\n",
    "        super(Approximation, self).__init__()\n",
    "        self.full1 = nn.Linear(state_size, hid_size)\n",
    "        self.full2 = nn.Linear(hid_size, hid_size)\n",
    "        self.full3 = nn.Linear(hid_size, hid_size)\n",
    "        self.full4 = nn.Linear(hid_size, num_actions)\n",
    "\n",
    "    def forward(self, x):\n",
    "        x = F.relu(self.full1(x))\n",
    "        x = F.relu(self.full2(x))\n",
    "        x = F.relu(self.full3(x))\n",
    "        x = self.full4(x)\n",
    "        return x"
   ]
  },
  {
   "cell_type": "code",
   "execution_count": 11,
   "metadata": {},
   "outputs": [],
   "source": [
    "from collections import namedtuple\n",
    "import random"
   ]
  },
  {
   "cell_type": "code",
   "execution_count": 12,
   "metadata": {},
   "outputs": [],
   "source": [
    "\n",
    "Name = namedtuple('Name', ('state', 'action', 'next_state', 'reward'))\n",
    "# взято из туториала по QDN на сайте pytorch\n",
    "class ReplayMemory(object):\n",
    "    \"\"\" Replay memory that will store samples \"\"\"\n",
    "\n",
    "    def __init__(self, capacity):\n",
    "        self.capacity = capacity\n",
    "        self.memory = []\n",
    "        self.position = 0\n",
    "\n",
    "    def push(self, state, action, reward, next_state):\n",
    "        \"\"\"Saves a Name.\"\"\"\n",
    "        if len(self.memory) < self.capacity:\n",
    "            self.memory.append(None)\n",
    "        self.memory[self.position] = Name(state, action, next_state, reward)\n",
    "        self.position = (self.position + 1) % self.capacity\n",
    "\n",
    "    def sample(self, batch_size):\n",
    "        return random.sample(self.memory, batch_size)\n",
    "\n",
    "    def __len__(self):\n",
    "        return len(self.memory)"
   ]
  },
  {
   "cell_type": "code",
   "execution_count": 13,
   "metadata": {},
   "outputs": [],
   "source": [
    "class Agent(object):\n",
    "    def __init__(self, env, gamma=0.99, lr=0.0005, batch_size=32):\n",
    "        super(Agent, self).__init__()\n",
    "        \n",
    "      \n",
    "        self.env = env\n",
    "        self.action_space = env.action_space.n\n",
    "        \n",
    "        \n",
    "        self.approx = Approximation(env.observation_space.shape[0], env.action_space.n)\n",
    "        self.target = Approximation(env.observation_space.shape[0], env.action_space.n)\n",
    "        self.target.load_state_dict(self.approx.state_dict())\n",
    "        self.target.eval()\n",
    "        \n",
    "        if use_cuda:\n",
    "            self.approx.cuda()\n",
    "            self.target.cuda()\n",
    "            \n",
    "        self.optimizer = optim.Adam(self.approx.parameters(), lr=lr)\n",
    "        \n",
    "        \n",
    "        \n",
    "        self.gamma = gamma\n",
    "        \n",
    "        self.history = ReplayMemory(10000)\n",
    "        self.replace_network = 20\n",
    "        \n",
    "        self.train_rewards = []\n",
    "        self.test_rewards = []\n",
    "        self.train_steps = []\n",
    "        self.test_steps = []\n",
    "        \n",
    "        \n",
    "        self.batch_size = batch_size\n",
    "        self.max_eps = 0.9\n",
    "        self.min_eps = 0.05\n",
    "        self.epsilon_decay=1000\n",
    "        \n",
    "        self.cnt=0\n",
    "    \n",
    "    def get_action(self, s, greedy=False):\n",
    "        '''Chooses action wrt mu-strategy or pi-strategy if greedy is true'''\n",
    "        self.epsilon = self.min_eps + (self.max_eps - self.min_eps) * \\\n",
    "        math.exp(-1. * self.cnt / self.epsilon_decay)\n",
    "        \n",
    "        z = random.random()\n",
    "        state = Variable(Tensor(s))\n",
    "        q = self.approx(state)\n",
    "        \n",
    "        maxx = q.max(0)[1].view(1, 1)\n",
    "        if greedy or z > self.epsilon:\n",
    "            return maxx\n",
    "        else:\n",
    "            return LongTensor([[random.randrange(4)]])\n",
    "    \n",
    "    def compute_q_learning_targets(self, mini_batch):\n",
    "        \"Computes q-learning targets\"\n",
    "        \n",
    "        \n",
    "        rs = torch.cat(mini_batch.reward)\n",
    "        s1 = torch.cat(mini_batch.next_state).reshape((self.batch_size, -1)) \n",
    "        \n",
    "        Q = self.target(s1).max(1)[0].detach()\n",
    "                                \n",
    "        targets = rs + self.gamma * Q\n",
    "        return targets\n",
    "        \n",
    "    def optimize(self, mini_batch):\n",
    "        \"Optimizes network on mini_batch\"\n",
    "        mini_batch = Name(*zip(*mini_batch))\n",
    "        tensor_targets = self.compute_q_learning_targets(mini_batch)\n",
    "        self.optimizer.zero_grad()\n",
    "        \n",
    "        tensor_s = torch.cat(mini_batch.state).reshape((self.batch_size, -1))#Tensor(mini_batch[0][:, 0,:])\n",
    "        tensor_a = torch.cat(mini_batch.action)#LongTensor(mini_batch[1][:, 0].reshape(-1, 1))\n",
    "        #print(tensor_s.shape, tensor_a.shape)\n",
    "                \n",
    "        #tensor_targets = Tensor(targets)\n",
    "        #print(tensor_a.shape)\n",
    "        q_s_a = self.approx(tensor_s).gather(1, tensor_a)\n",
    "        \n",
    "        loss = F.smooth_l1_loss(q_s_a, tensor_targets.unsqueeze(1))\n",
    "        \n",
    "        self.optimizer.zero_grad()\n",
    "        loss.backward()\n",
    "        for param in self.approx.parameters():\n",
    "            param.grad.data.clamp_(-1, 1)\n",
    "        self.optimizer.step()\n",
    "    \n",
    "    def play_one_step(self, s, train=True, it=0):\n",
    "        \"One step\"\n",
    "        a = self.get_action(s, greedy=True^train)\n",
    "\n",
    "        s1, r, is_terminal, _ = self.env.step(a.item())\n",
    "        \n",
    "        self.history.push(Tensor(s), a, Tensor([r]), Tensor(s1))\n",
    "        if train and self.batch_size <= len(self.history):\n",
    "            mini_batch = self.history.sample(self.batch_size)\n",
    "            self.optimize(mini_batch)\n",
    "       \n",
    "        return s1, r, is_terminal\n",
    "    \n",
    "    def play_game(self, return_frames=False, train=True):\n",
    "        \"Plays one game\"\n",
    "        self.cnt += 1\n",
    "        \n",
    "        state = Variable(Tensor(self.env.reset()))#state = self.env.reset()\n",
    "        steps = 0\n",
    "        rewards = []\n",
    "        frames = []\n",
    "        it = 1\n",
    "        while True:\n",
    "            # Get action\n",
    "            state, reward, is_terminal = self.play_one_step(state, train, it)\n",
    "            rewards.append(reward)\n",
    "            steps +=1\n",
    "            if return_frames == True:\n",
    "                frames.append(self.env.render(mode='rgb_array'))\n",
    "            if is_terminal:\n",
    "                break\n",
    "            it += 1\n",
    "        if return_frames == False:\n",
    "            return steps, rewards\n",
    "        else:\n",
    "            return steps, rewards, frames\n",
    "    \n",
    "    \n",
    "\n",
    "    def train(self, num_episodes, save_ep=1000):\n",
    "        \n",
    "        self.save_ep = save_ep\n",
    "        for it in tqdm_notebook(range(num_episodes)):\n",
    "            \n",
    "            steps, rewards = self.play_game()\n",
    "            # update network every 10th iteration\n",
    "            if it % self.replace_network == 0:\n",
    "                self.target.load_state_dict(self.approx.state_dict())\n",
    "                \n",
    "            self.train_rewards.append(sum(Tensor(rewards)).detach().cpu().numpy())\n",
    "            self.train_steps.append(steps)\n",
    "                \n",
    "            if (it+1) % 200 == 0:\n",
    "                print(\"It: \", it+1, \"reward: \", sum(rewards), \"steps: \", steps)\n",
    "                print(\"Mean reward: \", np.mean(self.train_rewards[-200:]))\n",
    "            if (it+1) % (self.save_ep) == 0:\n",
    "                torch.save(self.approx.state_dict(), \"model.pkl\")\n"
   ]
  },
  {
   "cell_type": "code",
   "execution_count": 14,
   "metadata": {},
   "outputs": [],
   "source": [
    "SEED = 64\n",
    "env = gym.make(\"LunarLander-v2\")\n",
    "env.seed(SEED)\n",
    "torch.manual_seed(SEED)\n",
    "agent2 = Agent(env)"
   ]
  },
  {
   "cell_type": "code",
   "execution_count": 96,
   "metadata": {},
   "outputs": [
    {
     "data": {
      "application/vnd.jupyter.widget-view+json": {
       "model_id": "5e204d0db9674afa8d0d0a721498bbf0",
       "version_major": 2,
       "version_minor": 0
      },
      "text/plain": [
       "HBox(children=(IntProgress(value=0, max=5000), HTML(value='')))"
      ]
     },
     "metadata": {},
     "output_type": "display_data"
    },
    {
     "name": "stdout",
     "output_type": "stream",
     "text": [
      "It:  200 reward:  -68.47651111360221 steps:  125\n",
      "Mean reward:  -120.985504\n",
      "It:  400 reward:  -72.37771867111256 steps:  118\n",
      "Mean reward:  -68.79631\n",
      "It:  600 reward:  -13.666787119636936 steps:  129\n",
      "Mean reward:  -46.80634\n",
      "It:  800 reward:  42.89192968730917 steps:  1000\n",
      "Mean reward:  -40.207077\n",
      "It:  1000 reward:  -35.79248652573242 steps:  1000\n",
      "Mean reward:  -26.064268\n",
      "It:  1200 reward:  -41.230184761202565 steps:  123\n",
      "Mean reward:  -40.787594\n",
      "It:  1400 reward:  -25.322872625180494 steps:  1000\n",
      "Mean reward:  -22.297031\n",
      "It:  1600 reward:  99.48327729163961 steps:  1000\n",
      "Mean reward:  33.84434\n",
      "It:  1800 reward:  -1.5659692005807813 steps:  95\n",
      "Mean reward:  120.69285\n",
      "It:  2000 reward:  96.64710278890739 steps:  1000\n",
      "Mean reward:  106.23413\n",
      "It:  2200 reward:  -76.07499163493421 steps:  1000\n",
      "Mean reward:  111.253456\n",
      "It:  2400 reward:  197.43446944601828 steps:  508\n",
      "Mean reward:  139.98752\n",
      "It:  2600 reward:  -39.29800515792564 steps:  1000\n",
      "Mean reward:  117.55328\n",
      "It:  2800 reward:  0.6071321483011047 steps:  124\n",
      "Mean reward:  109.67703\n",
      "It:  3000 reward:  250.90627470581052 steps:  328\n",
      "Mean reward:  157.35399\n",
      "It:  3200 reward:  260.71465249297194 steps:  308\n",
      "Mean reward:  155.0916\n",
      "It:  3400 reward:  34.671158384905624 steps:  119\n",
      "Mean reward:  143.85199\n",
      "It:  3600 reward:  246.87030656183993 steps:  247\n",
      "Mean reward:  149.12366\n",
      "It:  3800 reward:  219.46300129749665 steps:  466\n",
      "Mean reward:  172.22626\n",
      "It:  4000 reward:  29.47573368726094 steps:  123\n",
      "Mean reward:  172.71547\n",
      "It:  4200 reward:  16.729490607334796 steps:  199\n",
      "Mean reward:  171.48366\n",
      "It:  4400 reward:  263.5162126033006 steps:  281\n",
      "Mean reward:  93.87498\n",
      "It:  4600 reward:  265.95198417092115 steps:  738\n",
      "Mean reward:  103.63277\n",
      "It:  4800 reward:  271.6463335741487 steps:  200\n",
      "Mean reward:  123.50721\n",
      "It:  5000 reward:  288.0628484214436 steps:  429\n",
      "Mean reward:  159.53876\n"
     ]
    }
   ],
   "source": [
    "agent2.train(5000)"
   ]
  },
  {
   "cell_type": "code",
   "execution_count": 103,
   "metadata": {},
   "outputs": [],
   "source": [
    "def test(self, num_iter=10, load=None, fr=True):\n",
    "    \n",
    "        test_rewards=[]\n",
    "        test_steps=[]\n",
    "        \n",
    "        if load is not None:\n",
    "            self.approx.load_state_dict(torch.load(load))\n",
    "            self.approx.eval()\n",
    "        self.frames = []\n",
    "        cnt = 0\n",
    "        for it in tqdm_notebook(range(num_iter)):\n",
    "            if fr:\n",
    "                steps, rewards, frames = self.play_game(train=False, return_frames=True)\n",
    "                self.frames += [frames]\n",
    "            else:\n",
    "                steps, rewards = self.play_game(train=False, return_frames=False)\n",
    "            \n",
    "            rew = (Tensor(rewards)).detach().cpu().numpy()\n",
    "            test_rewards.append(sum(rew))\n",
    "            test_steps.append(steps)\n",
    "\n",
    "            print(\"Epoch\", it, \"Rewards\", sum(rew), \"Steps\", steps, flush=True)\n",
    "            print(\"Last reward\", rew[-1])\n",
    "            if (rew[-1] == 100): # из описаний наград\n",
    "                print(\"Robot landed!\")\n",
    "                cnt += 1\n",
    "            else:\n",
    "                print(\"Robot crashed:(\")\n",
    "        print(\"ROBOT LANDED\", cnt, \"TIMES OUT OF\", num_iter)\n",
    "        f, (ax1, ax2) = plt.subplots(1, 2)\n",
    "        f.set_figheight(5)\n",
    "        f.set_figwidth(15)\n",
    "        ax1.plot(test_rewards)\n",
    "        ax1.set_title(\"Rewards\")\n",
    "        ax2.plot(test_steps)\n",
    "        ax2.set_title(\"Steps per epoch\")\n",
    "        plt.show()\n",
    "        if fr:\n",
    "            return self.frames"
   ]
  },
  {
   "cell_type": "code",
   "execution_count": 108,
   "metadata": {},
   "outputs": [],
   "source": [
    "torch.save(agent2.approx.state_dict(), \n",
    "                           \"Agent2_5000.pkl\")"
   ]
  },
  {
   "cell_type": "code",
   "execution_count": 107,
   "metadata": {},
   "outputs": [
    {
     "data": {
      "application/vnd.jupyter.widget-view+json": {
       "model_id": "db135b05b1c442168a1327566027ec21",
       "version_major": 2,
       "version_minor": 0
      },
      "text/plain": [
       "HBox(children=(IntProgress(value=0, max=10), HTML(value='')))"
      ]
     },
     "metadata": {},
     "output_type": "display_data"
    },
    {
     "name": "stdout",
     "output_type": "stream",
     "text": [
      "Epoch 0 Rewards 29.31039134785533 Steps 152\n",
      "Last reward -100.0\n",
      "Robot crashed:(\n",
      "Epoch 1 Rewards 244.5413877767117 Steps 314\n",
      "Last reward 100.0\n",
      "Robot landed!\n",
      "Epoch 2 Rewards 140.472130641705 Steps 1000\n",
      "Last reward -0.0061690924\n",
      "Robot crashed:(\n",
      "Epoch 3 Rewards 280.58380053645135 Steps 194\n",
      "Last reward 100.0\n",
      "Robot landed!\n",
      "Epoch 4 Rewards 288.38280112266204 Steps 166\n",
      "Last reward 100.0\n",
      "Robot landed!\n",
      "Epoch 5 Rewards 286.40696334040393 Steps 157\n",
      "Last reward 100.0\n",
      "Robot landed!\n",
      "Epoch 6 Rewards 226.28733293451856 Steps 189\n",
      "Last reward 100.0\n",
      "Robot landed!\n",
      "Epoch 7 Rewards 250.69292817837632 Steps 159\n",
      "Last reward 100.0\n",
      "Robot landed!\n",
      "Epoch 8 Rewards 262.86027305640414 Steps 303\n",
      "Last reward 100.0\n",
      "Robot landed!\n",
      "Epoch 9 Rewards 260.5625229899871 Steps 150\n",
      "Last reward 100.0\n",
      "Robot landed!\n",
      "ROBOT LANDED 8 TIMES OUT OF 10\n"
     ]
    },
    {
     "data": {
      "image/png": "[encoded data removed]",
      "text/plain": [
       "<Figure size 1080x360 with 2 Axes>"
      ]
     },
     "metadata": {},
     "output_type": "display_data"
    }
   ],
   "source": [
    "test(agent2, 10, fr=False)"
   ]
  },
  {
   "cell_type": "markdown",
   "metadata": {},
   "source": [
    "**Как видим, робот садится 8 раз из 10. При этом при обучении часто получается reward > 200, а средний reward > 150**"
   ]
  },
  {
   "cell_type": "code",
   "execution_count": null,
   "metadata": {},
   "outputs": [],
   "source": []
  }
 ],
 "metadata": {
  "anaconda-cloud": {},
  "kernelspec": {
   "display_name": "Python 3",
   "language": "python",
   "name": "python3"
  },
  "language_info": {
   "codemirror_mode": {
    "name": "ipython",
    "version": 3
   },
   "file_extension": ".py",
   "mimetype": "text/x-python",
   "name": "python",
   "nbconvert_exporter": "python",
   "pygments_lexer": "ipython3",
   "version": "3.5.2"
  }
 },
 "nbformat": 4,
 "nbformat_minor": 1
}
